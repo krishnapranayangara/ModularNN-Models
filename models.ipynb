{
 "cells": [
  {
   "cell_type": "code",
   "execution_count": 6,
   "id": "129fa218",
   "metadata": {},
   "outputs": [],
   "source": [
    "import torch\n",
    "import torch.nn as nn "
   ]
  },
  {
   "cell_type": "code",
   "execution_count": 7,
   "id": "3ab03430",
   "metadata": {},
   "outputs": [],
   "source": [
    "class AlexNet(nn.Module):\n",
    "    def __init__(self, no_of_classes):\n",
    "        super(AlexNet, self).__init__()\n",
    "    \n",
    "        self.convs = nn.Sequential(\n",
    "            nn.Conv2d(in_channels=3, out_channels=96, kernel_size=11, stride=4, padding=1),  # N x 96 x 55 x 55,\n",
    "            nn.LocalResponseNorm(size=5),\n",
    "            nn.MaxPool2d(kernel_size=3, stride=2), # N x 96 x 27 x 27,\n",
    "            nn.ReLU(),\n",
    "            nn.Conv2d(in_channels=96, out_channels=256, kernel_size=5),  # N x 256 x 23 x 23\n",
    "            nn.LocalResponseNorm(size=5),\n",
    "            nn.MaxPool2d(kernel_size=3, stride=2),  # N x 256 x 11 x 11\n",
    "            nn.ReLU(),\n",
    "            nn.Conv2d(in_channels=256, out_channels=348, kernel_size=3),  # N x 348 x 9 x 9\n",
    "            nn.ReLU(),\n",
    "            nn.Conv2d(in_channels=348, out_channels=348, kernel_size=3), # N x 348 x 7 x 7\n",
    "            nn.ReLU(),\n",
    "            nn.Conv2d(in_channels=348, out_channels=256, kernel_size=3),  # N x 348 x 5 x 5\n",
    "            nn.MaxPool2d(kernel_size=3, stride=2), # N x 256 x 2 x 2\n",
    "            nn.ReLU()\n",
    "        )\n",
    "        \n",
    "        self.classifier = nn.Sequential(\n",
    "            nn.Flatten(), # N x 1024\n",
    "            nn.Dropout(p=0.5),\n",
    "            nn.Linear(in_features=(256 * 2 * 2), out_features=4096),\n",
    "            nn.ReLU(),\n",
    "            nn.Dropout(p=0.5),\n",
    "            nn.Linear(in_features=4096, out_features=4096),\n",
    "            nn.ReLU(),\n",
    "            nn.Linear(in_features=4096, out_features=4096),\n",
    "            nn.Softmax()\n",
    "        )\n",
    "        self.init_parameter()"
   ]
  },
  {
   "cell_type": "code",
   "execution_count": 8,
   "id": "2edd0e23",
   "metadata": {},
   "outputs": [],
   "source": [
    "def init_parameter(self):\n",
    "    for layer in self.convs:\n",
    "        if isinstance(layer, nn.Conv2d):\n",
    "            nn.init.normal_(layer.weight, mean=0, std=0.1),\n",
    "            nn.init.constant_(layer.bias, 0)\n",
    "\n",
    "    nn.init.constant_(self.convs[4].bias, 1)\n",
    "    nn.init.constant_(self.convs[10].bias, 1)\n",
    "    nn.init.constant_(self.convs[12].bias, 1)\n",
    "    nn.init.constant_(self.classifier[2].bias, 1)\n",
    "    nn.init.constant_(self.classifier[5].bias, 1)\n",
    "    nn.init.constant_(self.classifier[7].bias, 1)\n",
    "        \n",
    "    \n",
    "def forward(self, x):\n",
    "    x = self.convs(x)\n",
    "    x = self.classifier(x)\n",
    "    return x"
   ]
  },
  {
   "cell_type": "code",
   "execution_count": null,
   "id": "f175e7cd",
   "metadata": {},
   "outputs": [],
   "source": []
  },
  {
   "cell_type": "code",
   "execution_count": null,
   "id": "e62d3d0f",
   "metadata": {},
   "outputs": [],
   "source": []
  },
  {
   "cell_type": "code",
   "execution_count": null,
   "id": "b96c831c",
   "metadata": {},
   "outputs": [],
   "source": []
  }
 ],
 "metadata": {
  "kernelspec": {
   "display_name": "Python 3 (ipykernel)",
   "language": "python",
   "name": "python3"
  },
  "language_info": {
   "codemirror_mode": {
    "name": "ipython",
    "version": 3
   },
   "file_extension": ".py",
   "mimetype": "text/x-python",
   "name": "python",
   "nbconvert_exporter": "python",
   "pygments_lexer": "ipython3",
   "version": "3.11.2"
  }
 },
 "nbformat": 4,
 "nbformat_minor": 5
}
